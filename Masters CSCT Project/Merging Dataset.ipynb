{
 "cells": [
  {
   "cell_type": "markdown",
   "id": "ce158f4c",
   "metadata": {},
   "source": [
    "## Merging of Datasets\n"
   ]
  },
  {
   "cell_type": "code",
   "execution_count": null,
   "id": "594ef309",
   "metadata": {},
   "outputs": [],
   "source": []
  },
  {
   "cell_type": "code",
   "execution_count": null,
   "id": "0506f197",
   "metadata": {},
   "outputs": [],
   "source": [
    "import snscrape.modules.twitter as sntwitter\n",
    "import pandas as pd\n",
    "\n",
    "query = \"Sustainability since:2019-01-01 until:2022-12-31\"\n",
    "\n",
    "tweets = []\n",
    "\n",
    "for i, tweet in enumerate(sntwitter.TwitterSearchScraper(query).get_items()):\n",
    "    if i >= 2000:\n",
    "        break\n",
    "    tweets.append([tweet.date, tweet.id, tweet.content, tweet.retweetCount])\n",
    "\n",
    "df_tweets = pd.DataFrame(tweets, columns=['Datetime', 'Tweet Id', 'Text', 'RetweetCount'])\n",
    "df_tweets.to_csv('sustainability_tweets.csv', index=False)"
   ]
  }
 ],
 "metadata": {
  "kernelspec": {
   "display_name": "base",
   "language": "python",
   "name": "python3"
  },
  "language_info": {
   "codemirror_mode": {
    "name": "ipython",
    "version": 3
   },
   "file_extension": ".py",
   "mimetype": "text/x-python",
   "name": "python",
   "nbconvert_exporter": "python",
   "pygments_lexer": "ipython3",
   "version": "3.12.7"
  }
 },
 "nbformat": 4,
 "nbformat_minor": 5
}
